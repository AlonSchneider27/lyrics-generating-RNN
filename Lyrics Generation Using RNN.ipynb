{
  "cells": [
    {
      "cell_type": "code",
      "execution_count": 1,
      "metadata": {
        "colab": {
          "base_uri": "https://localhost:8080/"
        },
        "id": "83KF5g1UM3jP",
        "outputId": "ffc9c6a6-4082-4df6-ac39-0b4bc939d19a"
      },
      "outputs": [
        {
          "output_type": "stream",
          "name": "stdout",
          "text": [
            "Mounted at /content/drive\n"
          ]
        }
      ],
      "source": [
        "from google.colab import drive\n",
        "drive.mount('/content/drive')"
      ]
    },
    {
      "cell_type": "code",
      "execution_count": 2,
      "metadata": {
        "colab": {
          "base_uri": "https://localhost:8080/"
        },
        "id": "RxDyg9Udd63n",
        "outputId": "e693578a-3bad-4f01-c66e-8938bca79678"
      },
      "outputs": [
        {
          "output_type": "stream",
          "name": "stdout",
          "text": [
            "Collecting pretty_midi\n",
            "  Downloading pretty_midi-0.2.10.tar.gz (5.6 MB)\n",
            "\u001b[?25l     \u001b[90m━━━━━━━━━━━━━━━━━━━━━━━━━━━━━━━━━━━━━━━━\u001b[0m \u001b[32m0.0/5.6 MB\u001b[0m \u001b[31m?\u001b[0m eta \u001b[36m-:--:--\u001b[0m\r\u001b[2K     \u001b[91m╸\u001b[0m\u001b[90m━━━━━━━━━━━━━━━━━━━━━━━━━━━━━━━━━━━━━━━\u001b[0m \u001b[32m0.1/5.6 MB\u001b[0m \u001b[31m3.2 MB/s\u001b[0m eta \u001b[36m0:00:02\u001b[0m\r\u001b[2K     \u001b[91m━━━━━━━━━━━━━━━━\u001b[0m\u001b[90m╺\u001b[0m\u001b[90m━━━━━━━━━━━━━━━━━━━━━━━\u001b[0m \u001b[32m2.3/5.6 MB\u001b[0m \u001b[31m33.3 MB/s\u001b[0m eta \u001b[36m0:00:01\u001b[0m\r\u001b[2K     \u001b[91m━━━━━━━━━━━━━━━━━━━━━━━━━━━━━━━━━━━━━━━\u001b[0m\u001b[91m╸\u001b[0m \u001b[32m5.6/5.6 MB\u001b[0m \u001b[31m59.4 MB/s\u001b[0m eta \u001b[36m0:00:01\u001b[0m\r\u001b[2K     \u001b[90m━━━━━━━━━━━━━━━━━━━━━━━━━━━━━━━━━━━━━━━━\u001b[0m \u001b[32m5.6/5.6 MB\u001b[0m \u001b[31m46.8 MB/s\u001b[0m eta \u001b[36m0:00:00\u001b[0m\n",
            "\u001b[?25h  Preparing metadata (setup.py) ... \u001b[?25l\u001b[?25hdone\n",
            "Requirement already satisfied: numpy>=1.7.0 in /usr/local/lib/python3.10/dist-packages (from pretty_midi) (1.23.5)\n",
            "Collecting mido>=1.1.16 (from pretty_midi)\n",
            "  Downloading mido-1.3.0-py3-none-any.whl (50 kB)\n",
            "\u001b[2K     \u001b[90m━━━━━━━━━━━━━━━━━━━━━━━━━━━━━━━━━━━━━━━━\u001b[0m \u001b[32m50.3/50.3 kB\u001b[0m \u001b[31m8.0 MB/s\u001b[0m eta \u001b[36m0:00:00\u001b[0m\n",
            "\u001b[?25hRequirement already satisfied: six in /usr/local/lib/python3.10/dist-packages (from pretty_midi) (1.16.0)\n",
            "Requirement already satisfied: packaging~=23.1 in /usr/local/lib/python3.10/dist-packages (from mido>=1.1.16->pretty_midi) (23.2)\n",
            "Building wheels for collected packages: pretty_midi\n",
            "  Building wheel for pretty_midi (setup.py) ... \u001b[?25l\u001b[?25hdone\n",
            "  Created wheel for pretty_midi: filename=pretty_midi-0.2.10-py3-none-any.whl size=5592284 sha256=9de69600aefc16e0083ebd3cd2ce3b1734efd3cd2e2c56c16def7847f7e095c4\n",
            "  Stored in directory: /root/.cache/pip/wheels/cd/a5/30/7b8b7f58709f5150f67f98fde4b891ebf0be9ef07a8af49f25\n",
            "Successfully built pretty_midi\n",
            "Installing collected packages: mido, pretty_midi\n",
            "Successfully installed mido-1.3.0 pretty_midi-0.2.10\n"
          ]
        }
      ],
      "source": [
        "!pip install pretty_midi"
      ]
    },
    {
      "cell_type": "code",
      "execution_count": 3,
      "metadata": {
        "id": "VxwoQK3ZPart"
      },
      "outputs": [],
      "source": [
        "import torch\n",
        "from torch import nn\n",
        "from torch.utils.data import Dataset, DataLoader\n",
        "import pandas as pd\n",
        "import numpy as np\n",
        "import os\n",
        "from spacy.lang.en import English\n",
        "import csv\n",
        "import gensim.downloader\n",
        "import pretty_midi\n",
        "from gensim.models import KeyedVectors\n",
        "import pickle\n",
        "import random\n",
        "import matplotlib.pyplot as plt\n"
      ]
    },
    {
      "cell_type": "code",
      "execution_count": 4,
      "metadata": {
        "id": "ccRH4zjYcUPM"
      },
      "outputs": [],
      "source": [
        "data_path = '/content/drive/MyDrive/Colab_Notebooks/Deep Learning/HW/3/DATA/'"
      ]
    },
    {
      "cell_type": "code",
      "execution_count": 5,
      "metadata": {
        "id": "hE95pnc3dPqG"
      },
      "outputs": [],
      "source": [
        "train_path = data_path + 'lyrics_train_set.csv'\n",
        "test_path = data_path + 'lyrics_test_set.csv'\n",
        "mid_path = '/content/drive/MyDrive/Colab_Notebooks/Deep Learning/HW/3/DATA/midi_files/'"
      ]
    },
    {
      "cell_type": "code",
      "execution_count": 6,
      "metadata": {
        "id": "YKnzoq51ZW5B",
        "colab": {
          "base_uri": "https://localhost:8080/"
        },
        "outputId": "d0d0581a-ebb1-428d-ff3e-b25360fd231e"
      },
      "outputs": [
        {
          "output_type": "stream",
          "name": "stdout",
          "text": [
            "[==================================================] 100.0% 1662.8/1662.8MB downloaded\n"
          ]
        }
      ],
      "source": [
        "w2v = gensim.downloader.load('word2vec-google-news-300')"
      ]
    },
    {
      "cell_type": "code",
      "execution_count": 7,
      "metadata": {
        "id": "uw23VNU6YDZs"
      },
      "outputs": [],
      "source": [
        "def read_file(path):\n",
        "    nlp = English()\n",
        "    train = pd.read_csv(path)\n",
        "    train = train.iloc[:, :3]\n",
        "    print(train.shape)\n",
        "\n",
        "    artists, song_names, lyrics = [], [], []\n",
        "    with open(path, newline='') as f:\n",
        "        lines = csv.reader(f, delimiter=',', quotechar='|')\n",
        "        for row in lines:\n",
        "            artists.append(row[0])\n",
        "            song_name = row[1]\n",
        "            if song_name[0] == \" \":\n",
        "                song_name = song_name[1:]\n",
        "            song_names.append(song_name)\n",
        "            tokenizer = nlp\n",
        "            text = row[2]\n",
        "            from_reg = [\"`\", \"'re\", \"'s\", \"'d\", \"'ve\", \"'ll\", \"'m\", \"n't\", \"he'will\", \"ya'will\", \"i'will\", \"'em\",\n",
        "                        \"you'will\", \"we'will\", \"lovin'\", \"'cause\", \"it'will\", \"they'will\", \"this'will\", \"'bout\",\n",
        "                        \"y'awill\", \"nothin'\", \"somethin'\", \"doin'\", ]\n",
        "            to_reg = [\"'\", \" are\", \" is\", \" had\", \" have\", \" will\", \" am\", \"not\", \"he will\", \"you will\", \"i will\",\n",
        "                      \" them\", \"you will\", \"love\", \" because\", \"it will\", \"they will\", \"going\", \"this will\", \" about\",\n",
        "                      \"you will\", \"nothing\", \"something\", \"doing\"]\n",
        "            _ = dict(zip(from_reg, to_reg))\n",
        "            for k, v in _.items():\n",
        "                text = text.replace(k, v)\n",
        "            doc = tokenizer(text)\n",
        "            tokens = [token for token in doc]\n",
        "            token_list = []\n",
        "            for token in tokens:\n",
        "                if token.text.isalpha():\n",
        "                    token_list.append(token.text)\n",
        "                elif token.text == '&':\n",
        "                    token_list.append('<NewLine>')\n",
        "            lyrics.append(token_list)\n",
        "    return {'artists': artists, 'song_names': song_names, 'lyrics': lyrics}\n",
        "\n",
        "\n",
        "def create_vocabulary(train_df, test_df, w2v=w2v):\n",
        "    vocabulary = dict()\n",
        "    inverse_vocabulary = ['<unk>']\n",
        "    lyrics_train = []\n",
        "    lyrics_test = []\n",
        "    embeddings = w2v\n",
        "    for index_data, lyrics in enumerate([train_df, test_df]):\n",
        "        for index, lyric in enumerate(lyrics['lyrics']):\n",
        "            lyric_words = []\n",
        "            for word in lyric:\n",
        "                if word not in embeddings:\n",
        "                    continue\n",
        "                if word not in vocabulary:\n",
        "                    vocabulary[word] = len(inverse_vocabulary)\n",
        "                    lyric_words.append(len(inverse_vocabulary))\n",
        "                    inverse_vocabulary.append(word)\n",
        "                else:\n",
        "                    lyric_words.append(vocabulary[word])\n",
        "\n",
        "            if index_data == 0:\n",
        "                lyrics_train.append(lyric_words)\n",
        "            else:\n",
        "                lyrics_test.append(lyric_words)\n",
        "    return vocabulary, inverse_vocabulary, lyrics_train, lyrics_test\n",
        "\n",
        "\n",
        "\n",
        "def get_songs_names():\n",
        "    songs_names = dict()\n",
        "    for file_name in os.listdir(mid_path):\n",
        "        splited = file_name.split('_-_')\n",
        "        artist_name = splited[0].replace('_', ' ').lower()\n",
        "\n",
        "        song_name = splited[1].replace('.mid', '')\n",
        "        song_name = song_name.replace('_', ' ').lower()\n",
        "\n",
        "        songs_names[(song_name, artist_name)] = 0\n",
        "    return songs_names\n",
        "\n",
        "\n",
        "def get_songs_with_melody(lyrics, dic):\n",
        "    songs_names = get_songs_names()\n",
        "    songs_with_melody = {'artists': [], 'song_names': [], 'lyrics': []}\n",
        "    all_songs = {'artists': [], 'song_names': [], 'lyrics': []}\n",
        "\n",
        "    inserted_songs = dict()\n",
        "    k = 0\n",
        "    for _ in dic['artists']:\n",
        "        song_name = dic['song_names'][k]\n",
        "        artist_name = dic['artists'][k]\n",
        "\n",
        "        if (song_name, artist_name) not in inserted_songs:\n",
        "            inserted_songs[(song_name, artist_name)] = 0\n",
        "        else:\n",
        "            k += 1\n",
        "            continue\n",
        "        if (song_name, artist_name) in songs_names:\n",
        "            songs_with_melody['artists'].append(artist_name)\n",
        "            songs_with_melody['song_names'].append(song_name)\n",
        "            songs_with_melody['lyrics'].append(lyrics[k])\n",
        "\n",
        "        all_songs['artists'].append(artist_name)\n",
        "        all_songs['song_names'].append(song_name)\n",
        "        all_songs['lyrics'].append(lyrics[k])\n",
        "        k += 1\n",
        "\n",
        "    return songs_with_melody, all_songs\n",
        "\n",
        "\n",
        "def get_midi(songs_with_melody):\n",
        "    new_dict = {'artists': [], 'song_names': [], 'lyrics': []}\n",
        "\n",
        "    midi_dict_keys = dict()\n",
        "    midi_files = dict()\n",
        "    for file_name in os.listdir(mid_path):\n",
        "        song_name_midi = file_name.lower()\n",
        "        midi_dict_keys[song_name_midi] = file_name\n",
        "\n",
        "    artists_name = songs_with_melody['artists']\n",
        "    song_name = songs_with_melody['song_names']\n",
        "    lyrics = songs_with_melody['lyrics']\n",
        "\n",
        "    i = 0\n",
        "    while i < len(artists_name):\n",
        "        file_name = f'{artists_name[i]}_-_{song_name[i]}.mid'.replace(\" \", \"_\")\n",
        "        try:\n",
        "            pretty_midi_format = pretty_midi.PrettyMIDI(mid_path + midi_dict_keys[file_name])\n",
        "            midi_files[file_name] = pretty_midi_format\n",
        "            new_dict['artists'].append(artists_name[i])\n",
        "            new_dict['song_names'].append(song_name[i])\n",
        "            new_dict['lyrics'].append(lyrics[i])\n",
        "            i += 1\n",
        "        except:\n",
        "            i += 1\n",
        "            continue\n",
        "\n",
        "    return midi_files, new_dict\n",
        "\n",
        "\n",
        "def midi_features(songs_with_melody, midi_files):\n",
        "    artists = songs_with_melody['artists']\n",
        "    song_names = songs_with_melody['song_names']\n",
        "    lyrics = songs_with_melody['lyrics']\n",
        "    mid_features = dict()\n",
        "\n",
        "    for index, item in enumerate(artists):\n",
        "        artist = artists[index]\n",
        "        song_name = song_names[index]\n",
        "        lyric = lyrics[index]\n",
        "\n",
        "        file_name = f'{artist}_-_{song_name}.mid'.replace(\" \", \"_\")\n",
        "        mid_file = midi_files[file_name]\n",
        "        mid_features[(artist, song_name)] = []\n",
        "\n",
        "        words_info = {}\n",
        "        num_of_words = len(lyric)\n",
        "        duration = mid_file.get_end_time()\n",
        "        average_time_per_word = duration / num_of_words\n",
        "        for index, word in enumerate(lyric):\n",
        "            start = index * average_time_per_word\n",
        "            end = start + average_time_per_word\n",
        "            pitch_n, velocity_n, pitch, velocity, num_of_instruments, beats = 0, 0, 0, 0, 0, 0\n",
        "            for instrument in mid_file.instruments:\n",
        "                isEntered = False\n",
        "                has_drum = 0\n",
        "                for note in instrument.notes:\n",
        "                    if start <= note.start and note.end <= end:\n",
        "                        pitch_n += 1\n",
        "                        velocity_n += 1\n",
        "                        pitch += note.pitch\n",
        "                        velocity += note.velocity\n",
        "                        isEntered = True\n",
        "                        if has_drum == 0:\n",
        "                            if instrument.is_drum:\n",
        "                                has_drum = 1\n",
        "                if isEntered:\n",
        "                    num_of_instruments += 1\n",
        "\n",
        "            for beat in mid_file.get_beats():\n",
        "                if start <= beat <= end:\n",
        "                    beats += 1\n",
        "                elif beat > end:\n",
        "                    break\n",
        "\n",
        "            if pitch_n == 0:\n",
        "                avg_pitch = 0\n",
        "            else:\n",
        "                avg_pitch = pitch / pitch_n\n",
        "            if velocity_n == 0:\n",
        "                avg_velocity = 0\n",
        "            else:\n",
        "                avg_velocity = velocity / velocity_n\n",
        "            # mid_features[(artist,song_name)][word] = [avg_velocity,avg_pitch,num_of_instruments,has_drum,beats]\n",
        "            mid_features[(artist, song_name)].append([avg_velocity, avg_pitch, num_of_instruments, has_drum, beats])\n",
        "    return mid_features\n"
      ]
    },
    {
      "cell_type": "markdown",
      "source": [
        "Creating and loading the train and test sets (we already created them, then load them from the drive to save space and running times)"
      ],
      "metadata": {
        "id": "filYvAfJFlSL"
      }
    },
    {
      "cell_type": "code",
      "execution_count": 8,
      "metadata": {
        "id": "XU9YNeMpcnWI",
        "colab": {
          "base_uri": "https://localhost:8080/"
        },
        "outputId": "938f5f10-9429-48b1-a778-5685fec445ec"
      },
      "outputs": [
        {
          "output_type": "stream",
          "name": "stdout",
          "text": [
            "(599, 3)\n",
            "(4, 3)\n"
          ]
        }
      ],
      "source": [
        "train = read_file(train_path)\n",
        "test = read_file(test_path)\n",
        "vocabulary, inverse_vocabulary, lyrics_train, lyrics_test = create_vocabulary(train, test)\n",
        "songs_with_melody_train, all_songs_train = get_songs_with_melody(lyrics_train, train)\n",
        "songs_with_melody_test, all_songs_test = get_songs_with_melody(lyrics_test, test)"
      ]
    },
    {
      "cell_type": "code",
      "execution_count": 9,
      "metadata": {
        "id": "g--SJQKb_HWn"
      },
      "outputs": [],
      "source": [
        "# midi_files, train_data = get_midi(songs_with_melody_train)\n",
        "# train_features = midi_features(train_data, midi_files)\n",
        "\n",
        "# midi_files, test_data = get_midi(songs_with_melody_test)\n",
        "# test_features = midi_features(test_data, midi_files)\n",
        "\n",
        "# with open(\"/content/drive/MyDrive/Colab Notebooks/Deep Learning/HW/3/DATA/test_midi_features.pickle\", \"wb\") as handle:\n",
        "#     pickle.dump(features, handle)\n",
        "# with open(\"/content/drive/MyDrive/Colab Notebooks/Deep Learning/HW/3/DATA/test_data.pickle\", \"wb\") as handle:\n",
        "#     pickle.dump(test_data, handle)\n",
        "\n",
        "# with open(\"/content/drive/MyDrive/Colab Notebooks/Deep Learning/HW/3/DATA/vocabulary.pickle\", \"wb\") as handle:\n",
        "#     pickle.dump(vocabulary, handle)\n",
        "# with open(\"/content/drive/MyDrive/Colab Notebooks/Deep Learning/HW/3/DATA/inverse_vocabulary.pickle\", \"wb\") as handle:\n",
        "#     pickle.dump(inverse_vocabulary, handle)"
      ]
    },
    {
      "cell_type": "code",
      "source": [
        "train_data, train_midi_features= None, None\n",
        "with open(\"/content/drive/MyDrive/Colab_Notebooks/Deep Learning/HW/3/DATA/train_data.pickle\", \"rb\") as handle:\n",
        "    train_data = pickle.load(handle)\n",
        "with open(\"/content/drive/MyDrive/Colab_Notebooks/Deep Learning/HW/3/DATA/train_midi_features.pickle\", \"rb\") as handle:\n",
        "    train_midi_features = pickle.load(handle)\n",
        "\n",
        "test_data, test_midi_features = None, None\n",
        "with open(\"/content/drive/MyDrive/Colab_Notebooks/Deep Learning/HW/3/DATA/test_data.pickle\", \"rb\") as handle:\n",
        "    test_data = pickle.load(handle)\n",
        "with open(\"/content/drive/MyDrive/Colab_Notebooks/Deep Learning/HW/3/DATA/test_midi_features.pickle\", \"rb\") as handle:\n",
        "    test_midi_features = pickle.load(handle)\n",
        "\n",
        "vocabulary, inverse_vocabulary = None, None\n",
        "with open(\"/content/drive/MyDrive/Colab_Notebooks/Deep Learning/HW/3/DATA/vocabulary.pickle\", \"rb\") as handle:\n",
        "    vocabulary=pickle.load(handle)\n",
        "with open(\"/content/drive/MyDrive/Colab_Notebooks/Deep Learning/HW/3/DATA/inverse_vocabulary.pickle\", \"rb\") as handle:\n",
        "    inverse_vocabulary=pickle.load(handle)"
      ],
      "metadata": {
        "id": "d5RDBLrIHjIr"
      },
      "execution_count": 10,
      "outputs": []
    },
    {
      "cell_type": "code",
      "source": [
        "class MyDataset(Dataset):\n",
        "    def __init__(self, data, w2v_model, vocab, inv_vocab, midi):\n",
        "\n",
        "        self.data = data # dict[artists, song_names, lyrics]\n",
        "        self.w2v = w2v_model # word -> embeddings\n",
        "        self.vocab = vocab # word -> index\n",
        "        self.inv_vocab = inv_vocab # index -> word\n",
        "        self.midi = midi # (artist, song) -> [<5 features>,...] == len(lyrics)\n",
        "        self.inv_embds = {}\n",
        "        self.embds = self.embeddings()\n",
        "\n",
        "\n",
        "    def embeddings(self):\n",
        "      embds = ['<unk>']\n",
        "      for word in self.inv_vocab:\n",
        "        if word not in self.w2v:\n",
        "          continue\n",
        "        embd = self.w2v[word]\n",
        "        embds.append(embd)\n",
        "        self.inv_embds[tuple(embd)] = word\n",
        "      return embds\n",
        "\n",
        "    def __len__(self):\n",
        "        return len(self.data['lyrics'])\n",
        "\n",
        "    def __getitem__(self, idx):\n",
        "        artist, song, lyrics = self.data['artists'][idx], self.data['song_names'][idx], self.data['lyrics'][idx]\n",
        "        lyrics_embeddings =  lyrics.copy()\n",
        "        lyrics_embeddings = [self.embds[word] for word in lyrics_embeddings]\n",
        "        x = torch.stack([torch.cat([torch.tensor(word), torch.tensor(midi)], dim=-1) for word, midi in zip(lyrics_embeddings, self.midi[(artist, song)])])\n",
        "\n",
        "        return x, torch.tensor(lyrics)\n",
        "\n"
      ],
      "metadata": {
        "id": "uYdr0ZV6lDXE"
      },
      "execution_count": 11,
      "outputs": []
    },
    {
      "cell_type": "code",
      "source": [
        "train_dataset = MyDataset(data=train_data, w2v_model=w2v, vocab=vocabulary, inv_vocab=inverse_vocabulary, midi=train_midi_features)\n"
      ],
      "metadata": {
        "id": "bTW1LnMlaIS2"
      },
      "execution_count": 12,
      "outputs": []
    },
    {
      "cell_type": "code",
      "source": [
        "test_dataset = MyDataset(data=test_data, w2v_model=w2v, vocab=vocabulary, inv_vocab=inverse_vocabulary, midi=test_midi_features)\n"
      ],
      "metadata": {
        "id": "QAVDVPgWuMnh"
      },
      "execution_count": 13,
      "outputs": []
    },
    {
      "cell_type": "code",
      "source": [
        "class MyModel(nn.Module):\n",
        "    def __init__(self, input_size, hidden_size, vocab_size, num_layers=1,\n",
        "                 dropout=0.3):\n",
        "        super(MyModel, self).__init__()\n",
        "\n",
        "        self.input_size = input_size\n",
        "        self.hidden_size = hidden_size\n",
        "        self.num_layers = num_layers\n",
        "        self.hn = None\n",
        "\n",
        "        self.gru1 = nn.GRU(input_size, hidden_size, batch_first=True)\n",
        "        self.gru2 = nn.GRU(hidden_size, hidden_size, batch_first=True)\n",
        "        self.dropout = nn.Dropout(p=dropout)\n",
        "        self.linear1 = nn.Linear(hidden_size, hidden_size)\n",
        "        self.linear2 = nn.Linear(hidden_size, vocab_size)\n",
        "\n",
        "    def forward(self, x, h=None, return_state=False):\n",
        "\n",
        "        if self.hn is None:\n",
        "          self.hn = torch.zeros((self.num_layers, x.size(0), self.hidden_size))\n",
        "\n",
        "        out, h = self.gru1(x, h)\n",
        "        out, h = self.gru2(out, h)\n",
        "        self.hn = h#\n",
        "        out = self.linear1(out)\n",
        "        out = self.dropout(out)\n",
        "        logits = self.linear2(out)\n",
        "\n",
        "        if return_state:\n",
        "            return logits, h\n",
        "        else:\n",
        "            return logits"
      ],
      "metadata": {
        "id": "7g6Azr-dUsW8"
      },
      "execution_count": 14,
      "outputs": []
    },
    {
      "cell_type": "code",
      "source": [
        "device = 'cuda' if torch.cuda.is_available() else 'cpu'\n",
        "device"
      ],
      "metadata": {
        "colab": {
          "base_uri": "https://localhost:8080/",
          "height": 35
        },
        "id": "7XCigbgTbFsl",
        "outputId": "e4c4298e-cce3-4d8b-a41e-add7555b23e1"
      },
      "execution_count": 15,
      "outputs": [
        {
          "output_type": "execute_result",
          "data": {
            "text/plain": [
              "'cuda'"
            ],
            "application/vnd.google.colaboratory.intrinsic+json": {
              "type": "string"
            }
          },
          "metadata": {},
          "execution_count": 15
        }
      ]
    },
    {
      "cell_type": "code",
      "source": [
        "train_dataloader = DataLoader(train_dataset, batch_size=1, shuffle=True)"
      ],
      "metadata": {
        "id": "m10TyG1RaoYs"
      },
      "execution_count": 16,
      "outputs": []
    },
    {
      "cell_type": "code",
      "source": [
        "embedding_size = train_dataset[0][0].shape[1]\n",
        "model = MyModel(input_size=embedding_size,  hidden_size=1024, vocab_size=len(train_dataset.inv_vocab)).to(device)\n",
        "\n",
        "criterion = nn.CrossEntropyLoss()\n",
        "optimizer = torch.optim.Adam(model.parameters(), lr=1e-3)"
      ],
      "metadata": {
        "id": "hYFhYdylaww5"
      },
      "execution_count": 17,
      "outputs": []
    },
    {
      "cell_type": "code",
      "source": [
        "def train(model, criterion, optimizer, train_dataloader, device, epoches):\n",
        "\n",
        "    model.train()\n",
        "    total_loss = []\n",
        "\n",
        "\n",
        "    for epoch in range(epoches):\n",
        "\n",
        "        for step, batch in enumerate(train_dataloader):\n",
        "            x = batch[0].to(device)\n",
        "            y = batch[1].to(device)\n",
        "\n",
        "            preds = model(x)\n",
        "            loss = criterion(preds.transpose(-1, -2), y)\n",
        "\n",
        "            optimizer.zero_grad()\n",
        "            loss.backward()\n",
        "            optimizer.step()\n",
        "\n",
        "        print(f'epoch: {epoch}, loss: {loss}')\n",
        "        total_loss.append(loss)\n",
        "\n",
        "    return model, total_loss"
      ],
      "metadata": {
        "id": "YWOOxQ5lbSXU"
      },
      "execution_count": 18,
      "outputs": []
    },
    {
      "cell_type": "code",
      "source": [
        "model, total_loss = train(model, criterion, optimizer, train_dataloader, device, epoches=25)"
      ],
      "metadata": {
        "colab": {
          "base_uri": "https://localhost:8080/"
        },
        "id": "1qOfaIiGbjj9",
        "outputId": "ed2266fb-a11c-4d0b-ac08-fe816e67c220"
      },
      "execution_count": 19,
      "outputs": [
        {
          "output_type": "stream",
          "name": "stdout",
          "text": [
            "epoch: 0, loss: 2.040900230407715\n",
            "epoch: 1, loss: 2.109196186065674\n",
            "epoch: 2, loss: 0.9886225461959839\n",
            "epoch: 3, loss: 1.7028911113739014\n",
            "epoch: 4, loss: 0.09809452295303345\n",
            "epoch: 5, loss: 0.030017174780368805\n",
            "epoch: 6, loss: 0.028604399412870407\n",
            "epoch: 7, loss: 0.12074999511241913\n",
            "epoch: 8, loss: 0.14971475303173065\n",
            "epoch: 9, loss: 0.06303645670413971\n",
            "epoch: 10, loss: 0.0020388357806950808\n",
            "epoch: 11, loss: 0.0084873978048563\n",
            "epoch: 12, loss: 0.1272347867488861\n",
            "epoch: 13, loss: 0.06795992702245712\n",
            "epoch: 14, loss: 0.1530006378889084\n",
            "epoch: 15, loss: 0.04138743877410889\n",
            "epoch: 16, loss: 2.0434390535228886e-06\n",
            "epoch: 17, loss: 0.025791605934500694\n",
            "epoch: 18, loss: 0.6661702394485474\n",
            "epoch: 19, loss: 0.23884548246860504\n",
            "epoch: 20, loss: 0.8704594373703003\n",
            "epoch: 21, loss: 0.2204263061285019\n",
            "epoch: 22, loss: 0.0011397141497582197\n",
            "epoch: 23, loss: 0.31855785846710205\n",
            "epoch: 24, loss: 0.23171576857566833\n"
          ]
        }
      ]
    },
    {
      "cell_type": "code",
      "source": [
        "# Plotting the graph\n",
        "total_loss = [tensor.detach().cpu().numpy() for tensor in total_loss]\n",
        "plt.figure(figsize=(8, 4))\n",
        "plt.plot(total_loss, marker='o', color='blue')\n",
        "plt.xticks(range(len(total_loss)))\n",
        "plt.title('Model Loss Over Epochs')\n",
        "plt.xlabel('Epoch')\n",
        "plt.ylabel('Loss')\n",
        "plt.grid(True)\n",
        "plt.show()"
      ],
      "metadata": {
        "colab": {
          "base_uri": "https://localhost:8080/",
          "height": 410
        },
        "id": "IjNWDh1CktJf",
        "outputId": "de86763b-e624-4d12-e3f5-ab30a76674f5"
      },
      "execution_count": 20,
      "outputs": [
        {
          "output_type": "display_data",
          "data": {
            "text/plain": [
              "<Figure size 800x400 with 1 Axes>"
            ],
            "image/png": "[encoded data removed]"
          },
          "metadata": {}
        }
      ]
    },
    {
      "cell_type": "code",
      "source": [
        "from torch.distributions.one_hot_categorical import OneHotCategorical\n",
        "import itertools\n",
        "@torch.no_grad()\n",
        "def predict(dataset, model, seed, midis, device, num_words=20):\n",
        "\n",
        "    if len(midis)<num_words:\n",
        "      midis = list(itertools.islice(itertools.cycle(midis), num_words))\n",
        "\n",
        "    def concat(word, midi):\n",
        "      return torch.cat([torch.tensor(word), torch.tensor(midi)], dim=-1)\n",
        "\n",
        "    model.eval()\n",
        "\n",
        "    words = [dataset.inv_embds[tuple(seed)]]\n",
        "\n",
        "    word = seed\n",
        "    i = 0\n",
        "    while i < num_words-1:\n",
        "        midi = midis[i]\n",
        "        init_word = word.copy()\n",
        "        word = concat(word, midi)\n",
        "        word = word.reshape(1,1,305)\n",
        "        x = word\n",
        "        x = x.to(device)\n",
        "\n",
        "        y_pred = model(x)\n",
        "\n",
        "        dist = OneHotCategorical(logits=y_pred)\n",
        "        probs = dist.probs\n",
        "        _, top_10_indices = torch.topk(probs, 10)\n",
        "\n",
        "        if i==0:\n",
        "          token = top_10_indices.view(10)[random.randint(0, 9)].item()\n",
        "          words.append(dataset.inv_vocab[token])\n",
        "          word = dataset.embds[token]\n",
        "          i += 1\n",
        "          continue\n",
        "        token = top_10_indices.view(10)[random.randint(0,9)].item()\n",
        "        if dataset.inv_vocab[token] == words[-1]:\n",
        "          word = init_word\n",
        "          continue\n",
        "        word = dataset.embds[token]\n",
        "        words.append(dataset.inv_vocab[token])\n",
        "        i += 1\n",
        "\n",
        "\n",
        "    return words"
      ],
      "metadata": {
        "id": "-K2AcYZwjLDl"
      },
      "execution_count": 21,
      "outputs": []
    },
    {
      "cell_type": "code",
      "source": [
        "dfs = []\n",
        "for i in range(5):\n",
        "  song_num = i\n",
        "  # seed_word = train_dataset.embds[test_data['lyrics'][song_num][0]]\n",
        "  for word in [\"love\", \"smoke\", \"children\"]:\n",
        "    df = {\"artist\":[],\"song_name\":[],\"lyrics\":[]}\n",
        "    seed_word = train_dataset.w2v[word]\n",
        "    midi_feats = test_dataset.midi[list(test_dataset.midi.keys())[song_num]]\n",
        "    print(test_data['artists'][song_num], '|' ,test_data['song_names'][song_num],  '|', word)\n",
        "    df[\"artist\"].append(test_data['artists'][song_num])\n",
        "    df[\"song_name\"].append(test_data['song_names'][song_num])\n",
        "    df[\"lyrics\"].append(\" \".join(predict(train_dataset, model, seed_word, midi_feats ,device, num_words=50)))\n",
        "    dfs.append(df)"
      ],
      "metadata": {
        "id": "eKxB-lpvXtNJ",
        "colab": {
          "base_uri": "https://localhost:8080/"
        },
        "outputId": "a08c9dc7-759b-42dc-e5f0-9d68c1820f52"
      },
      "execution_count": 22,
      "outputs": [
        {
          "output_type": "stream",
          "name": "stdout",
          "text": [
            "the bangles | eternal flame | love\n",
            "the bangles | eternal flame | smoke\n",
            "the bangles | eternal flame | children\n",
            "billy joel | honesty | love\n",
            "billy joel | honesty | smoke\n",
            "billy joel | honesty | children\n",
            "cardigans | lovefool | love\n",
            "cardigans | lovefool | smoke\n",
            "cardigans | lovefool | children\n",
            "aqua | barbie girl | love\n",
            "aqua | barbie girl | smoke\n",
            "aqua | barbie girl | children\n",
            "blink 182 | all the small things | love\n",
            "blink 182 | all the small things | smoke\n",
            "blink 182 | all the small things | children\n"
          ]
        }
      ]
    },
    {
      "cell_type": "code",
      "source": [
        "all = pd.DataFrame()\n",
        "for data in dfs:\n",
        "  all = all.append(pd.DataFrame(data))"
      ],
      "metadata": {
        "id": "vTRMUZQtXvDW"
      },
      "execution_count": null,
      "outputs": []
    },
    {
      "cell_type": "markdown",
      "source": [
        "Here are a few examples of genereating new lyrics based on the artist, the song's MIDI data and the seed word:"
      ],
      "metadata": {
        "id": "SusxxjARz9p4"
      }
    },
    {
      "cell_type": "code",
      "source": [
        "all"
      ],
      "metadata": {
        "colab": {
          "base_uri": "https://localhost:8080/",
          "height": 520
        },
        "id": "t8NU0ddAzhHB",
        "outputId": "f8a63531-7996-4ba0-9175-cb026df67682"
      },
      "execution_count": 24,
      "outputs": [
        {
          "output_type": "execute_result",
          "data": {
            "text/plain": [
              "        artist             song_name  \\\n",
              "0  the bangles         eternal flame   \n",
              "0  the bangles         eternal flame   \n",
              "0  the bangles         eternal flame   \n",
              "0   billy joel               honesty   \n",
              "0   billy joel               honesty   \n",
              "0   billy joel               honesty   \n",
              "0    cardigans              lovefool   \n",
              "0    cardigans              lovefool   \n",
              "0    cardigans              lovefool   \n",
              "0         aqua           barbie girl   \n",
              "0         aqua           barbie girl   \n",
              "0         aqua           barbie girl   \n",
              "0    blink 182  all the small things   \n",
              "0    blink 182  all the small things   \n",
              "0    blink 182  all the small things   \n",
              "\n",
              "                                              lyrics  \n",
              "0  love sing amor princess angels bread tidings d...  \n",
              "0  smoke smoke race traveling woman girl where wh...  \n",
              "0  children family lie know do know been isnot th...  \n",
              "0  love forget face faces remains is this whole t...  \n",
              "0  smoke house put taking took floor on hotel cof...  \n",
              "0  children hours child life die know remember dr...  \n",
              "0  love loved talked knew understood explained co...  \n",
              "0  smoke wheel club father dear freedom peoples f...  \n",
              "0  children sister speak die live stand remain ad...  \n",
              "0  love friends clothes sew pick take sit take ma...  \n",
              "0  smoke race message friend man bullet buried br...  \n",
              "0  children children life twelve long true long s...  \n",
              "0  love love sing smile joy joyful ray tidings se...  \n",
              "0  smoke drink dogs hide boy brother son soul tea...  \n",
              "0  children children girls sister mother son bag ...  "
            ],
            "text/html": [
              "\n",
              "  <div id=\"df-7a572255-38fd-47cd-98c4-4d6af26312ce\" class=\"colab-df-container\">\n",
              "    <div>\n",
              "<style scoped>\n",
              "    .dataframe tbody tr th:only-of-type {\n",
              "        vertical-align: middle;\n",
              "    }\n",
              "\n",
              "    .dataframe tbody tr th {\n",
              "        vertical-align: top;\n",
              "    }\n",
              "\n",
              "    .dataframe thead th {\n",
              "        text-align: right;\n",
              "    }\n",
              "</style>\n",
              "<table border=\"1\" class=\"dataframe\">\n",
              "  <thead>\n",
              "    <tr style=\"text-align: right;\">\n",
              "      <th></th>\n",
              "      <th>artist</th>\n",
              "      <th>song_name</th>\n",
              "      <th>lyrics</th>\n",
              "    </tr>\n",
              "  </thead>\n",
              "  <tbody>\n",
              "    <tr>\n",
              "      <th>0</th>\n",
              "      <td>the bangles</td>\n",
              "      <td>eternal flame</td>\n",
              "      <td>love sing amor princess angels bread tidings d...</td>\n",
              "    </tr>\n",
              "    <tr>\n",
              "      <th>0</th>\n",
              "      <td>the bangles</td>\n",
              "      <td>eternal flame</td>\n",
              "      <td>smoke smoke race traveling woman girl where wh...</td>\n",
              "    </tr>\n",
              "    <tr>\n",
              "      <th>0</th>\n",
              "      <td>the bangles</td>\n",
              "      <td>eternal flame</td>\n",
              "      <td>children family lie know do know been isnot th...</td>\n",
              "    </tr>\n",
              "    <tr>\n",
              "      <th>0</th>\n",
              "      <td>billy joel</td>\n",
              "      <td>honesty</td>\n",
              "      <td>love forget face faces remains is this whole t...</td>\n",
              "    </tr>\n",
              "    <tr>\n",
              "      <th>0</th>\n",
              "      <td>billy joel</td>\n",
              "      <td>honesty</td>\n",
              "      <td>smoke house put taking took floor on hotel cof...</td>\n",
              "    </tr>\n",
              "    <tr>\n",
              "      <th>0</th>\n",
              "      <td>billy joel</td>\n",
              "      <td>honesty</td>\n",
              "      <td>children hours child life die know remember dr...</td>\n",
              "    </tr>\n",
              "    <tr>\n",
              "      <th>0</th>\n",
              "      <td>cardigans</td>\n",
              "      <td>lovefool</td>\n",
              "      <td>love loved talked knew understood explained co...</td>\n",
              "    </tr>\n",
              "    <tr>\n",
              "      <th>0</th>\n",
              "      <td>cardigans</td>\n",
              "      <td>lovefool</td>\n",
              "      <td>smoke wheel club father dear freedom peoples f...</td>\n",
              "    </tr>\n",
              "    <tr>\n",
              "      <th>0</th>\n",
              "      <td>cardigans</td>\n",
              "      <td>lovefool</td>\n",
              "      <td>children sister speak die live stand remain ad...</td>\n",
              "    </tr>\n",
              "    <tr>\n",
              "      <th>0</th>\n",
              "      <td>aqua</td>\n",
              "      <td>barbie girl</td>\n",
              "      <td>love friends clothes sew pick take sit take ma...</td>\n",
              "    </tr>\n",
              "    <tr>\n",
              "      <th>0</th>\n",
              "      <td>aqua</td>\n",
              "      <td>barbie girl</td>\n",
              "      <td>smoke race message friend man bullet buried br...</td>\n",
              "    </tr>\n",
              "    <tr>\n",
              "      <th>0</th>\n",
              "      <td>aqua</td>\n",
              "      <td>barbie girl</td>\n",
              "      <td>children children life twelve long true long s...</td>\n",
              "    </tr>\n",
              "    <tr>\n",
              "      <th>0</th>\n",
              "      <td>blink 182</td>\n",
              "      <td>all the small things</td>\n",
              "      <td>love love sing smile joy joyful ray tidings se...</td>\n",
              "    </tr>\n",
              "    <tr>\n",
              "      <th>0</th>\n",
              "      <td>blink 182</td>\n",
              "      <td>all the small things</td>\n",
              "      <td>smoke drink dogs hide boy brother son soul tea...</td>\n",
              "    </tr>\n",
              "    <tr>\n",
              "      <th>0</th>\n",
              "      <td>blink 182</td>\n",
              "      <td>all the small things</td>\n",
              "      <td>children children girls sister mother son bag ...</td>\n",
              "    </tr>\n",
              "  </tbody>\n",
              "</table>\n",
              "</div>\n",
              "    <div class=\"colab-df-buttons\">\n",
              "\n",
              "  <div class=\"colab-df-container\">\n",
              "    <button class=\"colab-df-convert\" onclick=\"convertToInteractive('df-7a572255-38fd-47cd-98c4-4d6af26312ce')\"\n",
              "            title=\"Convert this dataframe to an interactive table.\"\n",
              "            style=\"display:none;\">\n",
              "\n",
              "  <svg xmlns=\"http://www.w3.org/2000/svg\" height=\"24px\" viewBox=\"0 -960 960 960\">\n",
              "    <path d=\"M120-120v-720h720v720H120Zm60-500h600v-160H180v160Zm220 220h160v-160H400v160Zm0 220h160v-160H400v160ZM180-400h160v-160H180v160Zm440 0h160v-160H620v160ZM180-180h160v-160H180v160Zm440 0h160v-160H620v160Z\"/>\n",
              "  </svg>\n",
              "    </button>\n",
              "\n",
              "  <style>\n",
              "    .colab-df-container {\n",
              "      display:flex;\n",
              "      gap: 12px;\n",
              "    }\n",
              "\n",
              "    .colab-df-convert {\n",
              "      background-color: #E8F0FE;\n",
              "      border: none;\n",
              "      border-radius: 50%;\n",
              "      cursor: pointer;\n",
              "      display: none;\n",
              "      fill: #1967D2;\n",
              "      height: 32px;\n",
              "      padding: 0 0 0 0;\n",
              "      width: 32px;\n",
              "    }\n",
              "\n",
              "    .colab-df-convert:hover {\n",
              "      background-color: #E2EBFA;\n",
              "      box-shadow: 0px 1px 2px rgba(60, 64, 67, 0.3), 0px 1px 3px 1px rgba(60, 64, 67, 0.15);\n",
              "      fill: #174EA6;\n",
              "    }\n",
              "\n",
              "    .colab-df-buttons div {\n",
              "      margin-bottom: 4px;\n",
              "    }\n",
              "\n",
              "    [theme=dark] .colab-df-convert {\n",
              "      background-color: #3B4455;\n",
              "      fill: #D2E3FC;\n",
              "    }\n",
              "\n",
              "    [theme=dark] .colab-df-convert:hover {\n",
              "      background-color: #434B5C;\n",
              "      box-shadow: 0px 1px 3px 1px rgba(0, 0, 0, 0.15);\n",
              "      filter: drop-shadow(0px 1px 2px rgba(0, 0, 0, 0.3));\n",
              "      fill: #FFFFFF;\n",
              "    }\n",
              "  </style>\n",
              "\n",
              "    <script>\n",
              "      const buttonEl =\n",
              "        document.querySelector('#df-7a572255-38fd-47cd-98c4-4d6af26312ce button.colab-df-convert');\n",
              "      buttonEl.style.display =\n",
              "        google.colab.kernel.accessAllowed ? 'block' : 'none';\n",
              "\n",
              "      async function convertToInteractive(key) {\n",
              "        const element = document.querySelector('#df-7a572255-38fd-47cd-98c4-4d6af26312ce');\n",
              "        const dataTable =\n",
              "          await google.colab.kernel.invokeFunction('convertToInteractive',\n",
              "                                                    [key], {});\n",
              "        if (!dataTable) return;\n",
              "\n",
              "        const docLinkHtml = 'Like what you see? Visit the ' +\n",
              "          '<a target=\"_blank\" href=https://colab.research.google.com/notebooks/data_table.ipynb>data table notebook</a>'\n",
              "          + ' to learn more about interactive tables.';\n",
              "        element.innerHTML = '';\n",
              "        dataTable['output_type'] = 'display_data';\n",
              "        await google.colab.output.renderOutput(dataTable, element);\n",
              "        const docLink = document.createElement('div');\n",
              "        docLink.innerHTML = docLinkHtml;\n",
              "        element.appendChild(docLink);\n",
              "      }\n",
              "    </script>\n",
              "  </div>\n",
              "\n",
              "\n",
              "<div id=\"df-ca70b1b6-3e35-409e-8441-4c827aa9b873\">\n",
              "  <button class=\"colab-df-quickchart\" onclick=\"quickchart('df-ca70b1b6-3e35-409e-8441-4c827aa9b873')\"\n",
              "            title=\"Suggest charts\"\n",
              "            style=\"display:none;\">\n",
              "\n",
              "<svg xmlns=\"http://www.w3.org/2000/svg\" height=\"24px\"viewBox=\"0 0 24 24\"\n",
              "     width=\"24px\">\n",
              "    <g>\n",
              "        <path d=\"M19 3H5c-1.1 0-2 .9-2 2v14c0 1.1.9 2 2 2h14c1.1 0 2-.9 2-2V5c0-1.1-.9-2-2-2zM9 17H7v-7h2v7zm4 0h-2V7h2v10zm4 0h-2v-4h2v4z\"/>\n",
              "    </g>\n",
              "</svg>\n",
              "  </button>\n",
              "\n",
              "<style>\n",
              "  .colab-df-quickchart {\n",
              "      --bg-color: #E8F0FE;\n",
              "      --fill-color: #1967D2;\n",
              "      --hover-bg-color: #E2EBFA;\n",
              "      --hover-fill-color: #174EA6;\n",
              "      --disabled-fill-color: #AAA;\n",
              "      --disabled-bg-color: #DDD;\n",
              "  }\n",
              "\n",
              "  [theme=dark] .colab-df-quickchart {\n",
              "      --bg-color: #3B4455;\n",
              "      --fill-color: #D2E3FC;\n",
              "      --hover-bg-color: #434B5C;\n",
              "      --hover-fill-color: #FFFFFF;\n",
              "      --disabled-bg-color: #3B4455;\n",
              "      --disabled-fill-color: #666;\n",
              "  }\n",
              "\n",
              "  .colab-df-quickchart {\n",
              "    background-color: var(--bg-color);\n",
              "    border: none;\n",
              "    border-radius: 50%;\n",
              "    cursor: pointer;\n",
              "    display: none;\n",
              "    fill: var(--fill-color);\n",
              "    height: 32px;\n",
              "    padding: 0;\n",
              "    width: 32px;\n",
              "  }\n",
              "\n",
              "  .colab-df-quickchart:hover {\n",
              "    background-color: var(--hover-bg-color);\n",
              "    box-shadow: 0 1px 2px rgba(60, 64, 67, 0.3), 0 1px 3px 1px rgba(60, 64, 67, 0.15);\n",
              "    fill: var(--button-hover-fill-color);\n",
              "  }\n",
              "\n",
              "  .colab-df-quickchart-complete:disabled,\n",
              "  .colab-df-quickchart-complete:disabled:hover {\n",
              "    background-color: var(--disabled-bg-color);\n",
              "    fill: var(--disabled-fill-color);\n",
              "    box-shadow: none;\n",
              "  }\n",
              "\n",
              "  .colab-df-spinner {\n",
              "    border: 2px solid var(--fill-color);\n",
              "    border-color: transparent;\n",
              "    border-bottom-color: var(--fill-color);\n",
              "    animation:\n",
              "      spin 1s steps(1) infinite;\n",
              "  }\n",
              "\n",
              "  @keyframes spin {\n",
              "    0% {\n",
              "      border-color: transparent;\n",
              "      border-bottom-color: var(--fill-color);\n",
              "      border-left-color: var(--fill-color);\n",
              "    }\n",
              "    20% {\n",
              "      border-color: transparent;\n",
              "      border-left-color: var(--fill-color);\n",
              "      border-top-color: var(--fill-color);\n",
              "    }\n",
              "    30% {\n",
              "      border-color: transparent;\n",
              "      border-left-color: var(--fill-color);\n",
              "      border-top-color: var(--fill-color);\n",
              "      border-right-color: var(--fill-color);\n",
              "    }\n",
              "    40% {\n",
              "      border-color: transparent;\n",
              "      border-right-color: var(--fill-color);\n",
              "      border-top-color: var(--fill-color);\n",
              "    }\n",
              "    60% {\n",
              "      border-color: transparent;\n",
              "      border-right-color: var(--fill-color);\n",
              "    }\n",
              "    80% {\n",
              "      border-color: transparent;\n",
              "      border-right-color: var(--fill-color);\n",
              "      border-bottom-color: var(--fill-color);\n",
              "    }\n",
              "    90% {\n",
              "      border-color: transparent;\n",
              "      border-bottom-color: var(--fill-color);\n",
              "    }\n",
              "  }\n",
              "</style>\n",
              "\n",
              "  <script>\n",
              "    async function quickchart(key) {\n",
              "      const quickchartButtonEl =\n",
              "        document.querySelector('#' + key + ' button');\n",
              "      quickchartButtonEl.disabled = true;  // To prevent multiple clicks.\n",
              "      quickchartButtonEl.classList.add('colab-df-spinner');\n",
              "      try {\n",
              "        const charts = await google.colab.kernel.invokeFunction(\n",
              "            'suggestCharts', [key], {});\n",
              "      } catch (error) {\n",
              "        console.error('Error during call to suggestCharts:', error);\n",
              "      }\n",
              "      quickchartButtonEl.classList.remove('colab-df-spinner');\n",
              "      quickchartButtonEl.classList.add('colab-df-quickchart-complete');\n",
              "    }\n",
              "    (() => {\n",
              "      let quickchartButtonEl =\n",
              "        document.querySelector('#df-ca70b1b6-3e35-409e-8441-4c827aa9b873 button');\n",
              "      quickchartButtonEl.style.display =\n",
              "        google.colab.kernel.accessAllowed ? 'block' : 'none';\n",
              "    })();\n",
              "  </script>\n",
              "</div>\n",
              "    </div>\n",
              "  </div>\n"
            ]
          },
          "metadata": {},
          "execution_count": 24
        }
      ]
    }
  ],
  "metadata": {
    "colab": {
      "provenance": []
    },
    "kernelspec": {
      "display_name": "Python 3",
      "name": "python3"
    },
    "language_info": {
      "name": "python"
    },
    "gpuClass": "standard",
    "accelerator": "GPU"
  },
  "nbformat": 4,
  "nbformat_minor": 0
}